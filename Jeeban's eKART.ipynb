{
 "cells": [
  {
   "cell_type": "code",
   "execution_count": 3,
   "id": "6019fec7-fa68-40a4-b31b-e1572332f370",
   "metadata": {},
   "outputs": [],
   "source": [
    "import tkinter as tk\n",
    "from tkinter import messagebox\n",
    "class ShoppingMall:\n",
    "    def __init__(self, root):\n",
    "        self.root = root\n",
    "        self.root.title(\"JEEBAN's eKART\")\n",
    "        self.items ={\"Nike Air\": 8999, \"adidas Originals Men\": 11999, \"Abibas Pro max\": 150, \"Bajaj Dominar 400\": 250000, \"Bajaj Pulsar 220F\": 194000, \"Maruti Suzuki ALTO\": 199999, \"YOU\": 10000000000000000000}\n",
    "        self.cart = []\n",
    "        self.create_main_frames()\n",
    "        self.create_product_list()\n",
    "        self.create_cart_and_checkout()\n",
    "    def create_main_frames(self):\n",
    "        self.left_frame = tk.Frame(self.root)\n",
    "        self.left_frame.pack(side=tk.LEFT, padx=10, pady=10)\n",
    "        self.right_frame = tk.Frame(self.root)\n",
    "        self.right_frame.pack(side=tk.RIGHT, padx=10, pady=10)\n",
    "    def create_product_list(self):\n",
    "        tk.Label(self.left_frame, text=\"Jeeban's Product\", font=(\"Arial\", 16)).pack()\n",
    "        self.product_listbox = tk.Listbox(self.left_frame)\n",
    "        for item in self.items:\n",
    "            self.product_listbox.insert(tk.END, item)\n",
    "        self.product_listbox.pack(pady=10)\n",
    "        self.add_to_cart_button = tk.Button(self.left_frame, text=\"Add to jeeban's Cart\", command=self.add_to_cart)\n",
    "        self.add_to_cart_button.pack()\n",
    "    def create_cart_and_checkout(self):\n",
    "        tk.Label(self.right_frame, text=\"Jeeban's Shopping Cart\", font=(\"Arial\", 16)).pack()\n",
    "        self.cart_listbox = tk.Listbox(self.right_frame)\n",
    "        self.cart_listbox.pack(pady=10)\n",
    "        self.checkout_button = tk.Button(self.right_frame, text=\"Check here to buy as a gift\", command=self.checkout)\n",
    "        self.checkout_button.pack(pady=10)\n",
    "    def add_to_cart(self):\n",
    "        selected_item = self.product_listbox.get(tk.ACTIVE)\n",
    "        if selected_item:\n",
    "            self.cart.append(selected_item)\n",
    "            self.cart_listbox.insert(tk.END, selected_item)\n",
    "    def checkout(self):\n",
    "        if not self.cart:\n",
    "            messagebox.showwarning(\"Empty Cartt\", \"Your shopping cart is feeling light!\")\n",
    "            return\n",
    "        total_cost = sum(self.items[item] for item in self.cart)\n",
    "        messagebox.showinfo(\"Checkout\", f\"Total cost: ${total_cost:.2f}\\nThank you for shopping!\")\n",
    "        self.cart.clear()\n",
    "        self.cart_listbox.delete(0, tk.END)\n",
    "if __name__ == \"__main__\":\n",
    "    root = tk.Tk()\n",
    "    app = ShoppingMall(root)\n",
    "    root.mainloop()\n"
   ]
  },
  {
   "cell_type": "code",
   "execution_count": null,
   "id": "be99a844-6d5e-48d0-9502-dc93306e0575",
   "metadata": {},
   "outputs": [],
   "source": []
  }
 ],
 "metadata": {
  "kernelspec": {
   "display_name": "Python 3 (ipykernel)",
   "language": "python",
   "name": "python3"
  },
  "language_info": {
   "codemirror_mode": {
    "name": "ipython",
    "version": 3
   },
   "file_extension": ".py",
   "mimetype": "text/x-python",
   "name": "python",
   "nbconvert_exporter": "python",
   "pygments_lexer": "ipython3",
   "version": "3.11.7"
  }
 },
 "nbformat": 4,
 "nbformat_minor": 5
}
