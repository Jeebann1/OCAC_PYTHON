{
 "cells": [
  {
   "cell_type": "code",
   "execution_count": 1,
   "id": "413ae7d5-5b68-4f04-8f00-b12c71924409",
   "metadata": {},
   "outputs": [
    {
     "name": "stdout",
     "output_type": "stream",
     "text": [
      "G\n"
     ]
    }
   ],
   "source": [
    "print(\"G\")"
   ]
  },
  {
   "cell_type": "markdown",
   "id": "d0dfd4c9-407f-4340-8477-6f437b4c9217",
   "metadata": {},
   "source": [
    "You"
   ]
  },
  {
   "cell_type": "code",
   "execution_count": null,
   "id": "e1f840f9-633d-4fd0-866d-0435a2f47f82",
   "metadata": {},
   "outputs": [],
   "source": []
  },
  {
   "cell_type": "markdown",
   "id": "14790610-a4b8-463d-9a08-c88750ed278a",
   "metadata": {},
   "source": [
    "# Me"
   ]
  },
  {
   "cell_type": "code",
   "execution_count": 8,
   "id": "ee316772-4f72-4637-9abf-22314bec752d",
   "metadata": {},
   "outputs": [
    {
     "data": {
      "text/plain": [
       "'C:\\\\Users\\\\samal\\\\Python'"
      ]
     },
     "execution_count": 8,
     "metadata": {},
     "output_type": "execute_result"
    }
   ],
   "source": [
    "pwd"
   ]
  },
  {
   "cell_type": "markdown",
   "id": "7df1a5af-77ec-4ac6-a78a-5e05b24d1ced",
   "metadata": {},
   "source": []
  },
  {
   "cell_type": "code",
   "execution_count": 1,
   "id": "2847968e-e9c4-4a3b-9a51-b41e3008f25a",
   "metadata": {},
   "outputs": [
    {
     "data": {
      "text/plain": [
       "6"
      ]
     },
     "execution_count": 1,
     "metadata": {},
     "output_type": "execute_result"
    }
   ],
   "source": [
    "AN = 1 #This is variable declaration\n",
    "b = 5\n",
    "AN+b"
   ]
  },
  {
   "cell_type": "code",
   "execution_count": 3,
   "id": "509c4275-2d9c-4987-a983-fb50627c398f",
   "metadata": {},
   "outputs": [
    {
     "data": {
      "text/plain": [
       "'Hey you'"
      ]
     },
     "execution_count": 3,
     "metadata": {},
     "output_type": "execute_result"
    }
   ],
   "source": [
    "AN = 1 #This is variable declaration\n",
    "b = 5\n",
    "AN+b\n",
    "\"\"\"Hey you\"\"\""
   ]
  },
  {
   "cell_type": "code",
   "execution_count": 5,
   "id": "6a2fef99-b271-414c-b076-ae2d84665506",
   "metadata": {},
   "outputs": [
    {
     "data": {
      "text/plain": [
       "6"
      ]
     },
     "execution_count": 5,
     "metadata": {},
     "output_type": "execute_result"
    }
   ],
   "source": [
    "\"\"\"Hey you\"\"\"\n",
    "AN = 1 #This is variable declaration\n",
    "b = 5\n",
    "AN+b"
   ]
  },
  {
   "cell_type": "code",
   "execution_count": 7,
   "id": "6974857e-03ad-42fe-bc80-ee6ba9a88fb9",
   "metadata": {},
   "outputs": [
    {
     "data": {
      "text/plain": [
       "90"
      ]
     },
     "execution_count": 7,
     "metadata": {},
     "output_type": "execute_result"
    }
   ],
   "source": [
    "A=90\n",
    "A"
   ]
  },
  {
   "cell_type": "code",
   "execution_count": 9,
   "id": "6b95f121-3ae3-4941-89b6-8bb047c425ae",
   "metadata": {},
   "outputs": [
    {
     "data": {
      "text/plain": [
       "140717768691272"
      ]
     },
     "execution_count": 9,
     "metadata": {},
     "output_type": "execute_result"
    }
   ],
   "source": [
    "id(A)"
   ]
  },
  {
   "cell_type": "code",
   "execution_count": 11,
   "id": "86d5eb38-ebda-412d-a52f-1e866b580382",
   "metadata": {},
   "outputs": [
    {
     "data": {
      "text/plain": [
       "140717768688648"
      ]
     },
     "execution_count": 11,
     "metadata": {},
     "output_type": "execute_result"
    }
   ],
   "source": [
    "\"\"\"Memory location\"\"\"\n",
    "a=8\n",
    "id(a)"
   ]
  },
  {
   "cell_type": "code",
   "execution_count": 13,
   "id": "7e0a40df-9923-4edc-b144-42157b215f19",
   "metadata": {},
   "outputs": [
    {
     "data": {
      "text/plain": [
       "140717768688648"
      ]
     },
     "execution_count": 13,
     "metadata": {},
     "output_type": "execute_result"
    }
   ],
   "source": [
    "\"\"\"Memory allocation is same when the value is same\"\"\"\n",
    "z=8\n",
    "id(z)"
   ]
  },
  {
   "cell_type": "code",
   "execution_count": 19,
   "id": "b145328c-8a24-4568-a569-3984df9919db",
   "metadata": {},
   "outputs": [
    {
     "name": "stdout",
     "output_type": "stream",
     "text": [
      "the summasion is - 30\n"
     ]
    },
    {
     "data": {
      "text/plain": [
       "30"
      ]
     },
     "execution_count": 19,
     "metadata": {},
     "output_type": "execute_result"
    }
   ],
   "source": [
    "z=15\n",
    "c=15\n",
    "u=z+c\n",
    "u\n",
    "print(\"the summasion is -\",z+c)\n",
    "u"
   ]
  },
  {
   "cell_type": "code",
   "execution_count": 21,
   "id": "2739e7da-a6a4-45f5-903c-e9a196147dc5",
   "metadata": {},
   "outputs": [
    {
     "ename": "SyntaxError",
     "evalue": "invalid decimal literal (154867515.py, line 1)",
     "output_type": "error",
     "traceback": [
      "\u001b[1;36m  Cell \u001b[1;32mIn[21], line 1\u001b[1;36m\u001b[0m\n\u001b[1;33m    1q=4\u001b[0m\n\u001b[1;37m    ^\u001b[0m\n\u001b[1;31mSyntaxError\u001b[0m\u001b[1;31m:\u001b[0m invalid decimal literal\n"
     ]
    }
   ],
   "source": [
    "1q=4\n",
    "1q"
   ]
  },
  {
   "cell_type": "code",
   "execution_count": 23,
   "id": "1af0f848-6b64-481e-991c-f2d0575e9091",
   "metadata": {},
   "outputs": [
    {
     "data": {
      "text/plain": [
       "4"
      ]
     },
     "execution_count": 23,
     "metadata": {},
     "output_type": "execute_result"
    }
   ],
   "source": [
    "_1q=4\n",
    "_1q"
   ]
  },
  {
   "cell_type": "code",
   "execution_count": 25,
   "id": "0606145d-6683-4157-93ff-d6438cd86de7",
   "metadata": {},
   "outputs": [
    {
     "data": {
      "text/plain": [
       "int"
      ]
     },
     "execution_count": 25,
     "metadata": {},
     "output_type": "execute_result"
    }
   ],
   "source": [
    "w = type(_1q)\n",
    "w"
   ]
  },
  {
   "cell_type": "code",
   "execution_count": 29,
   "id": "85824c06-8a59-49b9-b152-588aaad290ce",
   "metadata": {},
   "outputs": [
    {
     "name": "stdout",
     "output_type": "stream",
     "text": [
      "<class 'int'>\n"
     ]
    }
   ],
   "source": [
    "print(w)"
   ]
  },
  {
   "cell_type": "code",
   "execution_count": 33,
   "id": "cb9fb7ec-1872-4de9-b385-bc83e294efae",
   "metadata": {},
   "outputs": [
    {
     "name": "stdout",
     "output_type": "stream",
     "text": [
      "['False', 'None', 'True', 'and', 'as', 'assert', 'async', 'await', 'break', 'class', 'continue', 'def', 'del', 'elif', 'else', 'except', 'finally', 'for', 'from', 'global', 'if', 'import', 'in', 'is', 'lambda', 'nonlocal', 'not', 'or', 'pass', 'raise', 'return', 'try', 'while', 'with', 'yield']\n"
     ]
    }
   ],
   "source": [
    "import keyword\n",
    "keywords = keyword.kwlist\n",
    "print(keywords)"
   ]
  },
  {
   "cell_type": "code",
   "execution_count": 35,
   "id": "3d084423-2820-4bfe-a7c2-044cea4fafba",
   "metadata": {},
   "outputs": [
    {
     "data": {
      "text/plain": [
       "35"
      ]
     },
     "execution_count": 35,
     "metadata": {},
     "output_type": "execute_result"
    }
   ],
   "source": [
    "len(keywords)"
   ]
  },
  {
   "cell_type": "code",
   "execution_count": 37,
   "id": "ea264dec-1b65-4250-862b-03bc14d73c3d",
   "metadata": {},
   "outputs": [
    {
     "name": "stdin",
     "output_type": "stream",
     "text": [
      "enter your company name- wipro\n"
     ]
    },
    {
     "name": "stdout",
     "output_type": "stream",
     "text": [
      "my organization name is- wipro\n"
     ]
    }
   ],
   "source": [
    "b = input(\"enter your company name-\")\n",
    "print(\"my organization name is-\",b)"
   ]
  },
  {
   "cell_type": "code",
   "execution_count": 39,
   "id": "f0527b63-051e-4c02-acde-52ddd914791e",
   "metadata": {},
   "outputs": [
    {
     "name": "stdout",
     "output_type": "stream",
     "text": [
      "wipro is my organization name\n"
     ]
    }
   ],
   "source": [
    "print(b, \"is my organization name\")"
   ]
  },
  {
   "cell_type": "code",
   "execution_count": 41,
   "id": "2d03a0ef-28b8-409c-a14b-5ebc186de4a0",
   "metadata": {},
   "outputs": [
    {
     "name": "stdout",
     "output_type": "stream",
     "text": [
      "i am from wipro where are you from?\n"
     ]
    }
   ],
   "source": [
    "print(\"i am from\",b,\"where are you from?\")"
   ]
  },
  {
   "cell_type": "code",
   "execution_count": 43,
   "id": "9f5381e6-3469-4e9d-879c-35289684edd1",
   "metadata": {},
   "outputs": [
    {
     "name": "stdout",
     "output_type": "stream",
     "text": [
      "i am from wipro and my employee id is -  8\n"
     ]
    }
   ],
   "source": [
    "print(\"i am from\",b, \"and my employee id is - \",a)"
   ]
  },
  {
   "cell_type": "code",
   "execution_count": 53,
   "id": "8e912ac5-ac47-47db-9205-6c6fe111b01e",
   "metadata": {},
   "outputs": [
    {
     "name": "stdout",
     "output_type": "stream",
     "text": [
      "i am from wipro and my employee id is 8\n"
     ]
    }
   ],
   "source": [
    "print(\"i am from {} and my employee id is {}\".format(b,a))"
   ]
  },
  {
   "cell_type": "code",
   "execution_count": 55,
   "id": "5ccd6ecf-783d-435a-adc0-e2d27df733bc",
   "metadata": {},
   "outputs": [
    {
     "name": "stdout",
     "output_type": "stream",
     "text": [
      "i am from 8 and my employee id is wipro\n"
     ]
    }
   ],
   "source": [
    "print(\"i am from {} and my employee id is {}\".format(a,b))"
   ]
  },
  {
   "cell_type": "code",
   "execution_count": 57,
   "id": "cf475d74-aa6c-4304-b8ae-a8d4189630af",
   "metadata": {},
   "outputs": [
    {
     "name": "stdout",
     "output_type": "stream",
     "text": [
      "10 20 30\n"
     ]
    }
   ],
   "source": [
    "a=10\n",
    "b=20\n",
    "c=30\n",
    "print(a,b,c)"
   ]
  },
  {
   "cell_type": "code",
   "execution_count": 59,
   "id": "a133d6f2-4534-4628-bd0a-5454b0234025",
   "metadata": {},
   "outputs": [
    {
     "name": "stdout",
     "output_type": "stream",
     "text": [
      "10 20 30\n"
     ]
    }
   ],
   "source": [
    "a,b,c=10,20,30\n",
    "print(a,b,c)"
   ]
  },
  {
   "cell_type": "code",
   "execution_count": 61,
   "id": "9b892d91-89d1-4e1e-9203-93bd0eef11fa",
   "metadata": {},
   "outputs": [
    {
     "name": "stdout",
     "output_type": "stream",
     "text": [
      "50\n"
     ]
    }
   ],
   "source": [
    "a=b=c=50\n",
    "print(c)"
   ]
  },
  {
   "cell_type": "code",
   "execution_count": 69,
   "id": "2a4b5f45-3e6a-4a7e-a969-266c97d8209e",
   "metadata": {},
   "outputs": [
    {
     "data": {
      "text/plain": [
       "10"
      ]
     },
     "execution_count": 69,
     "metadata": {},
     "output_type": "execute_result"
    }
   ],
   "source": [
    "S=10\n",
    "S"
   ]
  },
  {
   "cell_type": "code",
   "execution_count": 71,
   "id": "9f53d85a-03b1-4147-9337-af2abe8c1766",
   "metadata": {},
   "outputs": [],
   "source": [
    "del(S)"
   ]
  },
  {
   "cell_type": "code",
   "execution_count": 73,
   "id": "0bfadd0a-2a5f-47b0-9744-a65a654a49b9",
   "metadata": {},
   "outputs": [
    {
     "ename": "NameError",
     "evalue": "name 'S' is not defined",
     "output_type": "error",
     "traceback": [
      "\u001b[1;31m---------------------------------------------------------------------------\u001b[0m",
      "\u001b[1;31mNameError\u001b[0m                                 Traceback (most recent call last)",
      "Cell \u001b[1;32mIn[73], line 1\u001b[0m\n\u001b[1;32m----> 1\u001b[0m S\n",
      "\u001b[1;31mNameError\u001b[0m: name 'S' is not defined"
     ]
    }
   ],
   "source": [
    "S"
   ]
  },
  {
   "cell_type": "code",
   "execution_count": null,
   "id": "2d991ece-6088-4152-a5d2-446cd13f7501",
   "metadata": {},
   "outputs": [],
   "source": []
  }
 ],
 "metadata": {
  "kernelspec": {
   "display_name": "Python 3 (ipykernel)",
   "language": "python",
   "name": "python3"
  },
  "language_info": {
   "codemirror_mode": {
    "name": "ipython",
    "version": 3
   },
   "file_extension": ".py",
   "mimetype": "text/x-python",
   "name": "python",
   "nbconvert_exporter": "python",
   "pygments_lexer": "ipython3",
   "version": "3.11.7"
  }
 },
 "nbformat": 4,
 "nbformat_minor": 5
}
